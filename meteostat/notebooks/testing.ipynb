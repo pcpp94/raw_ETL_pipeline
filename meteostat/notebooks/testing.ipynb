{
 "cells": [
  {
   "cell_type": "code",
   "execution_count": null,
   "metadata": {},
   "outputs": [],
   "source": [
    "import meteostat\n",
    "import pandas as pd\n",
    "import datetime"
   ]
  },
  {
   "cell_type": "code",
   "execution_count": null,
   "metadata": {},
   "outputs": [],
   "source": [
    "stations_df = meteostat.Stations().region(country='AE').fetch().dropna()\n",
    "stations_df = stations_df.drop(columns=['wmo', 'icao', 'monthly_start', 'monthly_end']).reset_index()\n",
    "stations_df"
   ]
  },
  {
   "cell_type": "code",
   "execution_count": null,
   "metadata": {},
   "outputs": [],
   "source": [
    "today = datetime.datetime.today()\n",
    "stations_id = stations_df['id'].to_list()\n",
    "start = datetime.datetime(2015, 1, 1, 00, 00)\n",
    "end = datetime.datetime(today.year, today.month, today.day, today.hour, today.minute)"
   ]
  },
  {
   "cell_type": "code",
   "execution_count": null,
   "metadata": {},
   "outputs": [],
   "source": [
    "df = meteostat.Hourly(stations_id, start=start, end=end, model=False) # Do not include \"modelled data\" - Only ones measured by weather stations.\n",
    "df = df.fetch().reset_index().rename(columns={'station' : 'id'})\n",
    "df = stations_df[['id', 'name']].merge(df, how='right', on='id').drop(columns=['id'])\n",
    "df = df[['name', 'time', 'temp', 'rhum', 'wspd']].rename(columns = {'name' : 'weather_station', 'time' : 'datetime', 'temp' : 'temperature', 'rhum' : 'humidity', 'wspd' : 'wind_speed'})\n",
    "df = pd.melt(df, id_vars=['datetime', 'weather_station'], value_vars=['temperature', 'humidity', 'wind_speed'], var_name='weather_variable', value_name='nominal')\n",
    "df['granularity'] = 'hourly'\n",
    "df"
   ]
  },
  {
   "cell_type": "code",
   "execution_count": null,
   "metadata": {},
   "outputs": [],
   "source": [
    "import matplotlib.pyplot as plt\n",
    "\n",
    "for value in ['temperature', 'humidity', 'wind_speed']:\n",
    "  df[df['weather_variable'] == value].pivot(values='nominal', index='datetime', columns='weather_station').plot(figsize=(15,5), alpha=0.2, title=value)\n",
    "  plt.show()"
   ]
  },
  {
   "cell_type": "code",
   "execution_count": null,
   "metadata": {},
   "outputs": [],
   "source": [
    "normalise_dict = {'Lima International Airport': ['Lima I.A.', 'Airports']}\n",
    "df['station_id'] = df['weather_station'].apply(lambda x: normalise_dict[x][1])\n",
    "df['weather_station'] = df['weather_station'].apply(lambda x: normalise_dict[x][0])\n",
    "df"
   ]
  },
  {
   "cell_type": "code",
   "execution_count": null,
   "metadata": {},
   "outputs": [],
   "source": [
    "df2 = meteostat.Daily(stations_id, start=start, end=end, model=False) # Do not include \"modelled data\" - Only ones measured by weather stations.\n",
    "df2 = df2.fetch().reset_index().rename(columns={'station' : 'id'})\n",
    "df2 = stations_df[['id', 'name']].merge(df2, how='right', on='id').drop(columns=['id'])\n",
    "df2 = df2[['name', 'time', 'prcp']].rename(columns = {'name' : 'weather_station', 'time' : 'datetime', 'prcp' : 'rain'})\n",
    "df2 = pd.melt(df2, id_vars=['datetime', 'weather_station'], value_vars=['rain'], var_name='weather_variable', value_name='nominal')\n",
    "df2['granularity'] = 'daily'\n",
    "df2['station_id'] = df2['weather_station'].apply(lambda x: normalise_dict[x][1])\n",
    "df2['weather_station'] = df2['weather_station'].apply(lambda x: normalise_dict[x][0])\n",
    "df2"
   ]
  },
  {
   "cell_type": "code",
   "execution_count": null,
   "metadata": {},
   "outputs": [],
   "source": [
    "df2.pivot_table(index='datetime', values='nominal', columns='weather_station', aggfunc='sum').plot(figsize=(15,5))"
   ]
  },
  {
   "cell_type": "code",
   "execution_count": null,
   "metadata": {},
   "outputs": [],
   "source": []
  }
 ],
 "metadata": {
  "kernelspec": {
   "display_name": "pablo",
   "language": "python",
   "name": "python3"
  },
  "language_info": {
   "codemirror_mode": {
    "name": "ipython",
    "version": 3
   },
   "file_extension": ".py",
   "mimetype": "text/x-python",
   "name": "python",
   "nbconvert_exporter": "python",
   "pygments_lexer": "ipython3",
   "version": "3.11.5"
  }
 },
 "nbformat": 4,
 "nbformat_minor": 2
}
