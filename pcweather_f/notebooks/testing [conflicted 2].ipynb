{
  "cells": [
    {
      "cell_type": "code",
      "execution_count": null,
      "metadata": {},
      "outputs": [],
      "source": [
        "import pandas as pd \n",
        "import os\n",
        "import warnings\n",
        "import sys\n",
        "sys.path.insert(0,'\\\\'.join(os.path.dirname(os.getcwd()).split('\\\\')))\n",
        "warnings.filterwarnings(\"ignore\")"
      ]
    },
    {
      "cell_type": "code",
      "execution_count": null,
      "metadata": {},
      "outputs": [],
      "source": [
        "current = pd.read_parquet(\"../compiled_outputs/pcweather_f_weather_actuals.parquet\")\n",
        "print(current['type'].unique())\n",
        "print(current['datetime'].max())"
      ]
    },
    {
      "cell_type": "code",
      "execution_count": null,
      "metadata": {},
      "outputs": [],
      "source": [
        "current = current[current['weather_variable'] == 'temperature']"
      ]
    },
    {
      "cell_type": "code",
      "execution_count": null,
      "metadata": {},
      "outputs": [],
      "source": [
        "current[current['type'] == 'half_hourly_weather_stations'].pivot(index='datetime', columns='weather_station', values='nominal').plot(figsize=(15,5), alpha=0.5)"
      ]
    },
    {
      "cell_type": "code",
      "execution_count": null,
      "metadata": {},
      "outputs": [],
      "source": [
        "forecast = pd.read_parquet(\"../compiled_outputs/pcweather_f_weather_forecasts.parquet\")\n",
        "print(forecast['type'].unique())\n",
        "print(forecast['file_datetime'].max())"
      ]
    },
    {
      "cell_type": "code",
      "execution_count": null,
      "metadata": {},
      "outputs": [],
      "source": [
        "forecast = forecast[forecast['weather_variable'] == 'temperature']"
      ]
    },
    {
      "cell_type": "code",
      "execution_count": null,
      "metadata": {},
      "outputs": [],
      "source": [
        "forecast[forecast['type'] == 'daily_weather_stations'].pivot_table(index='datetime', columns='weather_station', values='nominal', aggfunc='count').plot(figsize=(15,5), alpha=0.5)"
      ]
    },
    {
      "cell_type": "code",
      "execution_count": null,
      "metadata": {},
      "outputs": [],
      "source": []
    }
  ],
  "metadata": {
    "kernelspec": {
      "display_name": "pablo",
      "language": "python",
      "name": "python3"
    },
    "language_info": {
      "codemirror_mode": {
        "name": "ipython",
        "version": 3
      },
      "file_extension": ".py",
      "mimetype": "text/x-python",
      "name": "python",
      "nbconvert_exporter": "python",
      "pygments_lexer": "ipython3",
      "version": "3.11.5"
    }
  },
  "nbformat": 4,
  "nbformat_minor": 2
}
